{
 "cells": [
  {
   "cell_type": "markdown",
   "metadata": {
    "Collapsed": "false"
   },
   "source": [
    "# Texas Hospital Discharge - EDA"
   ]
  },
  {
   "cell_type": "code",
   "execution_count": 56,
   "metadata": {
    "Collapsed": "false"
   },
   "outputs": [],
   "source": [
    "import pandas as pd\n",
    "import numpy as np\n",
    "import matplotlib.pyplot as plt\n",
    "import matplotlib\n",
    "\n",
    "import seaborn as sns\n",
    "sns.set_style(\"darkgrid\")\n",
    "\n",
    "from IPython.display import display, Markdown\n",
    "pd.set_option('display.max_columns', None)  \n",
    "\n",
    "import glob, os\n",
    "\n",
    "HYPER_TUNING = False\n",
    "DEBUG = False\n",
    "SEED = 42"
   ]
  },
  {
   "cell_type": "code",
   "execution_count": 57,
   "metadata": {
    "Collapsed": "false"
   },
   "outputs": [
    {
     "name": "stdout",
     "output_type": "stream",
     "text": [
      "The autoreload extension is already loaded. To reload it, use:\n",
      "  %reload_ext autoreload\n"
     ]
    }
   ],
   "source": [
    "%load_ext autoreload\n",
    "%autoreload 2\n",
    "\n",
    "import my_lib"
   ]
  },
  {
   "cell_type": "code",
   "execution_count": 100,
   "metadata": {},
   "outputs": [
    {
     "data": {
      "text/plain": [
       "(49984, 195)"
      ]
     },
     "execution_count": 100,
     "metadata": {},
     "output_type": "execute_result"
    }
   ],
   "source": [
    "df = pd.read_csv(\"data/df_train_sample_00_of_20.csv\", dtype=str)\n",
    "df.shape"
   ]
  },
  {
   "cell_type": "markdown",
   "metadata": {},
   "source": [
    "## 1. Encode Target"
   ]
  },
  {
   "cell_type": "code",
   "execution_count": 101,
   "metadata": {},
   "outputs": [
    {
     "name": "stdout",
     "output_type": "stream",
     "text": [
      "{0: 'long', 1: 'medium', 2: 'short'}\n"
     ]
    }
   ],
   "source": [
    "from sklearn.preprocessing import LabelEncoder\n",
    "if df['TARGET'].dtype!=int:\n",
    "    le_target = LabelEncoder()\n",
    "    df['TARGET']= le_target.fit_transform(df['TARGET'])\n",
    "else:\n",
    "    pass\n",
    "\n",
    "target_labels = {c:le_target.inverse_transform([c])[0] for c in [0,1,2]}\n",
    "print(target_labels)"
   ]
  },
  {
   "cell_type": "markdown",
   "metadata": {},
   "source": [
    "## 1.1 Applying Cleaned Cat. Features"
   ]
  },
  {
   "cell_type": "code",
   "execution_count": 102,
   "metadata": {},
   "outputs": [
    {
     "name": "stdout",
     "output_type": "stream",
     "text": [
      "Feture TYPE_OF_ADMISSION -> ['3' '1' '2' '4' '5' '9']\n",
      "Feture SOURCE_OF_ADMISSION -> ['4' '1' '2' '8' '5' '9' '6' 'D']\n",
      "Feture PAT_STATE -> ['TX' 'ZZ' 'XX']\n",
      "Feture SEX_CODE -> ['F' 'M' 'U']\n",
      "Feture RACE -> ['4' '5' '3' '2' '1']\n",
      "Feture ETHNICITY -> ['2' '1' '3']\n"
     ]
    }
   ],
   "source": [
    "my_lib.clean_categories(df)"
   ]
  },
  {
   "cell_type": "markdown",
   "metadata": {},
   "source": [
    "## 1.2 Test-Train Split"
   ]
  },
  {
   "cell_type": "code",
   "execution_count": 103,
   "metadata": {},
   "outputs": [],
   "source": [
    "from sklearn.model_selection import train_test_split\n",
    "\n",
    "target = \"TARGET\"\n",
    "X = df.drop(target, axis=1)\n",
    "y = df[target]\n",
    "df_X_train, df_X_test, df_y_train, df_y_test = train_test_split(X, y, test_size=0.4, stratify=y, random_state=SEED)"
   ]
  },
  {
   "cell_type": "markdown",
   "metadata": {},
   "source": [
    "## 1.3 Encoding of Categorical Features"
   ]
  },
  {
   "cell_type": "markdown",
   "metadata": {},
   "source": [
    "### 1.3.1 Label Binarizer"
   ]
  },
  {
   "cell_type": "code",
   "execution_count": 104,
   "metadata": {},
   "outputs": [],
   "source": [
    "from sklearn.preprocessing import LabelBinarizer\n",
    "\n",
    "def encode_features(df_X_train, df_X_test, cat_LabelBinarize=[], debug=False):\n",
    "    \n",
    "    # create dataframes to populate\n",
    "    df_X_train_model = df_X_train.loc[:, []]\n",
    "    df_X_test_model = df_X_test.loc[:, []]\n",
    "    \n",
    "    # encoding features using LabelBinarizer\n",
    "    for feature in cat_LabelBinarize:\n",
    "    \n",
    "        if debug: print(feature)\n",
    "            \n",
    "        # fit and transform on train -> fit decides what label goes to each category\n",
    "        lb = LabelBinarizer()\n",
    "        lb_results = lb.fit_transform(df_X_train[feature].astype(\"str\"))\n",
    "        names= [feature+\"_\"+l for l in lb.classes_]\n",
    "        if debug: print(\"\\t\", names)\n",
    "        for k, name in enumerate(names):\n",
    "            df_X_train_model[name] = lb_results[:, k]\n",
    "\n",
    "        # transform on test -> this transform uses the fit already stored\n",
    "        lb_results = lb.transform(df_X_test[feature].astype(\"str\"))\n",
    "        names= [feature+\"_\"+l for l in lb.classes_]\n",
    "        for k, name in enumerate(names):\n",
    "            df_X_test_model[name] = lb_results[:, k]\n",
    "        \n",
    "        # NOT ALL CAT. FEATURES SHOULD BE ENCODED USING LABEL BINARYIZER\n",
    "    \n",
    "    return df_X_train_model, df_X_test_model\n",
    "\n",
    "cat_LabelBinarize = [\"TYPE_OF_ADMISSION\",\"SOURCE_OF_ADMISSION\",\"PAT_STATE\", \"SEX_CODE\", \"RACE\", \"ETHNICITY\", \"ADMIT_WEEKDAY\"]\n",
    "df_X_train_model, df_X_test_model = encode_features(df_X_train, df_X_test, cat_LabelBinarize)"
   ]
  },
  {
   "cell_type": "code",
   "execution_count": 105,
   "metadata": {},
   "outputs": [
    {
     "data": {
      "text/plain": [
       "Index(['TYPE_OF_ADMISSION_1', 'TYPE_OF_ADMISSION_2', 'TYPE_OF_ADMISSION_3',\n",
       "       'TYPE_OF_ADMISSION_4', 'TYPE_OF_ADMISSION_5', 'TYPE_OF_ADMISSION_9',\n",
       "       'SOURCE_OF_ADMISSION_1', 'SOURCE_OF_ADMISSION_2',\n",
       "       'SOURCE_OF_ADMISSION_4', 'SOURCE_OF_ADMISSION_5',\n",
       "       'SOURCE_OF_ADMISSION_6', 'SOURCE_OF_ADMISSION_8',\n",
       "       'SOURCE_OF_ADMISSION_9', 'SOURCE_OF_ADMISSION_D', 'PAT_STATE_TX',\n",
       "       'PAT_STATE_XX', 'PAT_STATE_ZZ', 'SEX_CODE_F', 'SEX_CODE_M',\n",
       "       'SEX_CODE_U', 'RACE_1', 'RACE_2', 'RACE_3', 'RACE_4', 'RACE_5',\n",
       "       'ETHNICITY_1', 'ETHNICITY_2', 'ETHNICITY_3', 'ADMIT_WEEKDAY_1',\n",
       "       'ADMIT_WEEKDAY_2', 'ADMIT_WEEKDAY_3', 'ADMIT_WEEKDAY_4',\n",
       "       'ADMIT_WEEKDAY_5', 'ADMIT_WEEKDAY_6', 'ADMIT_WEEKDAY_7'],\n",
       "      dtype='object')"
      ]
     },
     "execution_count": 105,
     "metadata": {},
     "output_type": "execute_result"
    }
   ],
   "source": [
    "df_X_train_model.columns"
   ]
  },
  {
   "cell_type": "code",
   "execution_count": 106,
   "metadata": {},
   "outputs": [],
   "source": [
    "# df_X_train_model.drop(columns=features, inplace=True)"
   ]
  },
  {
   "cell_type": "code",
   "execution_count": 107,
   "metadata": {},
   "outputs": [],
   "source": [
    "X_train, y_train = df_X_train_model.values, df_y_train.values\n",
    "X_test, y_test = df_X_test_model.values, df_y_test.values"
   ]
  },
  {
   "cell_type": "code",
   "execution_count": 108,
   "metadata": {},
   "outputs": [],
   "source": [
    "from sklearn.linear_model import LogisticRegression\n",
    "from sklearn.svm import SVC\n",
    "from sklearn.neighbors import KNeighborsClassifier\n",
    "from sklearn.tree import DecisionTreeClassifier\n",
    "from sklearn.ensemble import ExtraTreesClassifier\n",
    "\n",
    "\n",
    "classifiers = {\n",
    "    # \"LogisticRegression\": LogisticRegression(C=0.1, penalty='l1', solver='liblinear'),\n",
    "    \"ExtraTreeClassifier\": ExtraTreesClassifier(bootstrap=False, criterion='gini', max_depth=8, max_features='log2', min_samples_split=2, n_estimators=200)\n",
    "}"
   ]
  },
  {
   "cell_type": "markdown",
   "metadata": {},
   "source": [
    "## 1.4 Feature Engineering"
   ]
  },
  {
   "cell_type": "code",
   "execution_count": null,
   "metadata": {},
   "outputs": [],
   "source": []
  },
  {
   "cell_type": "markdown",
   "metadata": {},
   "source": [
    "## 1.5 Model Training"
   ]
  },
  {
   "cell_type": "code",
   "execution_count": 109,
   "metadata": {},
   "outputs": [
    {
     "name": "stdout",
     "output_type": "stream",
     "text": [
      "           ExtraTreeClassifier has a training score (recall_macro) of 45.39% \n"
     ]
    }
   ],
   "source": [
    "from sklearn.model_selection import cross_val_score\n",
    "from sklearn.metrics import f1_score, make_scorer\n",
    "\n",
    "metric = 'recall_macro'\n",
    "for name, clf in classifiers.items():\n",
    "    clf.fit(X_train, y_train)\n",
    "    training_score = cross_val_score(clf, X_train, y_train, cv=10, n_jobs=-1,\n",
    "        scoring=metric)\n",
    "    \n",
    "    print(\"%30s has a training score (%s) of %.2f%% \" % (name, metric, 100*training_score.mean()))"
   ]
  },
  {
   "cell_type": "code",
   "execution_count": 110,
   "metadata": {},
   "outputs": [],
   "source": [
    "for name in classifiers:\n",
    "    classifiers[name].fit(X_train, y_train)"
   ]
  },
  {
   "cell_type": "markdown",
   "metadata": {},
   "source": [
    "### 1.5.1 Feature Importance"
   ]
  },
  {
   "cell_type": "code",
   "execution_count": 111,
   "metadata": {},
   "outputs": [
    {
     "name": "stdout",
     "output_type": "stream",
     "text": [
      "Feature Ranking\n",
      " 1. feature  8 SOURCE_OF_ADMISSION_4 (0.205423)\n",
      " 2. feature  3  TYPE_OF_ADMISSION_4 (0.205343)\n",
      " 3. feature  9 SOURCE_OF_ADMISSION_5 (0.131900)\n",
      " 4. feature  6 SOURCE_OF_ADMISSION_1 (0.053565)\n",
      " 5. feature  2  TYPE_OF_ADMISSION_3 (0.050332)\n",
      " 6. feature  0  TYPE_OF_ADMISSION_1 (0.046804)\n",
      " 7. feature  7 SOURCE_OF_ADMISSION_2 (0.042263)\n",
      " 8. feature  1  TYPE_OF_ADMISSION_2 (0.042242)\n",
      " 9. feature 17           SEX_CODE_F (0.035569)\n",
      "10. feature 25          ETHNICITY_1 (0.020758)\n",
      "11. feature 18           SEX_CODE_M (0.018722)\n",
      "12. feature 19           SEX_CODE_U (0.017582)\n",
      "13. feature 26          ETHNICITY_2 (0.016318)\n",
      "14. feature 13 SOURCE_OF_ADMISSION_D (0.014273)\n",
      "15. feature 11 SOURCE_OF_ADMISSION_8 (0.011892)\n",
      "16. feature 33      ADMIT_WEEKDAY_6 (0.007487)\n",
      "17. feature 22               RACE_3 (0.007194)\n",
      "18. feature 32      ADMIT_WEEKDAY_5 (0.007181)\n",
      "19. feature 24               RACE_5 (0.006964)\n",
      "20. feature 23               RACE_4 (0.006942)\n",
      "21. feature 10 SOURCE_OF_ADMISSION_6 (0.006681)\n",
      "22. feature 30      ADMIT_WEEKDAY_3 (0.005771)\n",
      "23. feature 34      ADMIT_WEEKDAY_7 (0.005125)\n",
      "24. feature 21               RACE_2 (0.004196)\n",
      "25. feature 29      ADMIT_WEEKDAY_2 (0.004175)\n",
      "26. feature 16         PAT_STATE_ZZ (0.003776)\n",
      "27. feature 27          ETHNICITY_3 (0.003607)\n",
      "28. feature 14         PAT_STATE_TX (0.003546)\n",
      "29. feature 28      ADMIT_WEEKDAY_1 (0.003254)\n",
      "30. feature 31      ADMIT_WEEKDAY_4 (0.003172)\n",
      "31. feature 12 SOURCE_OF_ADMISSION_9 (0.002299)\n",
      "32. feature  4  TYPE_OF_ADMISSION_5 (0.002279)\n",
      "33. feature 20               RACE_1 (0.001492)\n",
      "34. feature  5  TYPE_OF_ADMISSION_9 (0.001376)\n",
      "35. feature 15         PAT_STATE_XX (0.000498)\n"
     ]
    }
   ],
   "source": [
    "model = \"ExtraTreeClassifier\"\n",
    "clf = classifiers[model]\n",
    "\n",
    "if model == \"ExtraTreeClassifier\":\n",
    "\n",
    "    importances = clf.feature_importances_\n",
    "    std = np.std([tree.feature_importances_ for tree in clf.estimators_], axis=0)\n",
    "    indices = np.argsort(importances)[::-1]\n",
    "    \n",
    "    print(\"Feature Ranking\")\n",
    "    feature_names = [df_X_train_model.columns[indices[f]] for f in range(importances.shape[0])]\n",
    "    for f in range(importances.shape[0]):\n",
    "        print(\"%2d. feature %2d %20s (%f)\" % (f+1, indices[f], feature_names[f], importances[indices[f]]))\n",
    "        "
   ]
  },
  {
   "cell_type": "markdown",
   "metadata": {},
   "source": [
    "### 1.5.1.1 Delete Unimportant Features"
   ]
  },
  {
   "cell_type": "code",
   "execution_count": 97,
   "metadata": {},
   "outputs": [],
   "source": [
    "# unimportant_features = ['PAT_STATE_XX','TYPE_OF_ADMISSION_9','RACE_1','SOURCE_OF_ADMISSION_9','TYPE_OF_ADMISSION_5','ADMIT_WEEKDAY_4']\n",
    "# df_X_train_new_model = df_X_train_model\n",
    "# df_X_train_new_model.drop(columns=unimportant_features, inplace=True)\n",
    "\n",
    "# X_train, y_train = df_X_train_model.values, df_y_train.values\n",
    "# X_test, y_test = df_X_train_model.values, df_y_test.values"
   ]
  },
  {
   "cell_type": "markdown",
   "metadata": {},
   "source": [
    "### 1.5.1.2 Retrain"
   ]
  },
  {
   "cell_type": "code",
   "execution_count": 98,
   "metadata": {},
   "outputs": [
    {
     "name": "stdout",
     "output_type": "stream",
     "text": [
      "           ExtraTreeClassifier has a training score (recall_macro) of 45.35% \n"
     ]
    }
   ],
   "source": [
    "# metric = 'recall_macro'\n",
    "# for name, clf in classifiers.items():\n",
    "#     clf.fit(X_train, y_train)\n",
    "#     training_score = cross_val_score(clf, X_train, y_train, cv=10, n_jobs=-1,\n",
    "#         scoring=metric)\n",
    "    \n",
    "#     print(\"%30s has a training score (%s) of %.2f%% \" % (name, metric, 100*training_score.mean()))"
   ]
  },
  {
   "cell_type": "markdown",
   "metadata": {},
   "source": [
    "### 1.5.2 Metrics"
   ]
  },
  {
   "cell_type": "code",
   "execution_count": 122,
   "metadata": {},
   "outputs": [],
   "source": [
    "# pd.crosstab(df_pred.true.map(target_labels), df_pred[model].map(target_labels), rownames=['True'], colnames=['Predicted'])"
   ]
  },
  {
   "cell_type": "code",
   "execution_count": 123,
   "metadata": {},
   "outputs": [],
   "source": [
    "# from sklearn.metrics import classification_report \n",
    "# print(classification_report(df_pred.true, df_pred[model], target_names=le_target.inverse_transform([0,1,2])))"
   ]
  },
  {
   "cell_type": "markdown",
   "metadata": {},
   "source": [
    "### 1.5.3 Hyper-Parameter Tuning"
   ]
  },
  {
   "cell_type": "code",
   "execution_count": 112,
   "metadata": {},
   "outputs": [],
   "source": [
    "from sklearn.model_selection import GridSearchCV\n",
    "\n",
    "## unused models\n",
    "# param_space = {\n",
    "#     \"LogisticRegression\": {\n",
    "#         \"solver\":[\"liblinear\"],\n",
    "#         \"penalty\": ['l1', 'l2'], \n",
    "#         \"C\": [0.001, 0.01, 0.1, 1, 10, 100, 1000]},\n",
    "\n",
    "#     \"KNearestNeighbors\": {\n",
    "#         \"n_neighbors\": range(2,5), \n",
    "#         \"algorithm\": [\"auto\", \"ball_tree\", \"kd_tree\", \"brute\"]},\n",
    "\n",
    "#     \"SupportVectorClassifier\": {\n",
    "#         \"C\": [0.5, 0.7, 0.9, 1], \n",
    "#         \"kernel\": [\"rbf\", \"poly\", \"sigmoid\", \"linear\"]},\n",
    "\n",
    "#     \"DecisionTreeClassifier\": {\n",
    "#         \"criterion\": [\"gini\", \"entropy\"], \n",
    "#         \"max_depth\": range(2,4), \n",
    "#         \"min_samples_leaf\": range(5,7)},\n",
    "# }\n",
    "\n",
    "param_space = {\n",
    "    \"LogisticRegression\": {\n",
    "        \"solver\":[\"liblinear\"],\n",
    "        \"penalty\": ['l1', 'l2'], \n",
    "        \"C\": [0.001, 0.01, 0.1, 1, 10, 100, 1000]\n",
    "    },\n",
    "    \n",
    "    \"ExtraTreeClassifier\": {\n",
    "        \"n_estimators\":[200, 500],\n",
    "        \"max_features\":[\"auto\", \"sqrt\", \"log2\"],\n",
    "        \"min_samples_split\":[2,5,10],\n",
    "        \"max_depth\": [4,5,6,7,8],\n",
    "        \"criterion\":[\"gini\", \"entropy\"],\n",
    "        \"bootstrap\":[True, False]\n",
    "    }\n",
    "}\n",
    "    \n",
    "\n",
    "best_classifiers = {}"
   ]
  },
  {
   "cell_type": "code",
   "execution_count": 113,
   "metadata": {},
   "outputs": [],
   "source": [
    "if HYPER_TUNING == True:\n",
    "\n",
    "    for name, clf in classifiers.items():\n",
    "\n",
    "        param = param_space[name]\n",
    "        print(\"\\n\\nPerforming GridSearchCV on %s...\" % name)\n",
    "        clf = GridSearchCV(classifiers[name], param, cv=5, scoring=metric )\n",
    "\n",
    "        clf.fit(X_train, y_train)\n",
    "        best_classifiers[name] = clf\n",
    "\n",
    "        score = cross_val_score(clf, X_train, y_train, cv=10)\n",
    "        print(best_classifiers[name])\n",
    "        print(\"%s Cross Validation Score (%s): %.2f%%\" % (name, metric, 100*score.mean()))\n",
    "\n",
    "        print(\"Best Params: \\n\")\n",
    "        print(best_classifiers[name].best_params_)"
   ]
  },
  {
   "cell_type": "code",
   "execution_count": 114,
   "metadata": {},
   "outputs": [],
   "source": [
    "from sklearn.model_selection import cross_val_predict\n",
    "from sklearn.metrics import f1_score\n",
    "\n",
    "if HYPER_TUNING == True:\n",
    "\n",
    "    best_classifier_pred = {}\n",
    "    for name in classifiers:\n",
    "        pred = cross_val_predict(best_classifiers[name], X_train, y_train, cv=10)\n",
    "        best_classifier_pred[name] = pred\n",
    "\n",
    "    best_classifier_pred['true'] = y_train\n",
    "    df_best_pred = pd.DataFrame(best_classifier_pred)"
   ]
  },
  {
   "cell_type": "markdown",
   "metadata": {},
   "source": [
    "## 1.6 Grading (EXAMPLE)"
   ]
  },
  {
   "cell_type": "code",
   "execution_count": 115,
   "metadata": {},
   "outputs": [
    {
     "data": {
      "text/plain": [
       "(100000, 193)"
      ]
     },
     "execution_count": 115,
     "metadata": {},
     "output_type": "execute_result"
    }
   ],
   "source": [
    "df_grading = pd.read_csv(f\"data/grading.csv\", dtype=str)\n",
    "df_grading.shape"
   ]
  },
  {
   "cell_type": "markdown",
   "metadata": {},
   "source": [
    "### 1.6.1. Encoding `df_grading`"
   ]
  },
  {
   "cell_type": "code",
   "execution_count": 117,
   "metadata": {},
   "outputs": [
    {
     "name": "stdout",
     "output_type": "stream",
     "text": [
      "Feture TYPE_OF_ADMISSION -> ['2' '1' '3' '4' '5' '9']\n",
      "Feture SOURCE_OF_ADMISSION -> ['1' '2' '5' '6' 'D' '4' '8' '9' '0']\n",
      "Feture PAT_STATE -> ['TX' 'ZZ' 'XX']\n",
      "Feture SEX_CODE -> ['F' 'M' 'U']\n",
      "Feture RACE -> ['4' '5' '3' '2' '1']\n",
      "Feture ETHNICITY -> ['1' '2' '3']\n"
     ]
    }
   ],
   "source": [
    "my_lib.clean_categories(df_grading)"
   ]
  },
  {
   "cell_type": "code",
   "execution_count": 118,
   "metadata": {},
   "outputs": [],
   "source": [
    "df_X_train_model, df_X_test_model = encode_features(df_X_train, df_grading, cat_LabelBinarize)"
   ]
  },
  {
   "cell_type": "markdown",
   "metadata": {},
   "source": [
    "### 1.6.2. Make Predictions"
   ]
  },
  {
   "cell_type": "code",
   "execution_count": 119,
   "metadata": {},
   "outputs": [],
   "source": [
    "model = \"ExtraTreeClassifier\"\n",
    "df_grading['TARGET'] = classifiers[model].fit(df_X_train_model, y_train).predict(df_X_test_model)\n",
    "df_grading['TARGET'] = df_grading['TARGET'].map(target_labels)"
   ]
  },
  {
   "cell_type": "markdown",
   "metadata": {},
   "source": [
    "### 1.6.3. Save Predictions"
   ]
  },
  {
   "cell_type": "code",
   "execution_count": 120,
   "metadata": {},
   "outputs": [],
   "source": [
    "df_grading.loc[:, [\"RECORD_ID\", \"TARGET\"]].to_csv(\"df_grading_pred.csv\", index=False)"
   ]
  },
  {
   "cell_type": "markdown",
   "metadata": {},
   "source": [
    "### 1.6.4. Generate Archive"
   ]
  },
  {
   "cell_type": "code",
   "execution_count": 121,
   "metadata": {},
   "outputs": [
    {
     "name": "stdout",
     "output_type": "stream",
     "text": [
      "Creating archive: my_assignment.zip\n",
      "\t01-Import.ipynb - OK\n",
      "\t02-EDA.ipynb - OK\n",
      "\t03-Model.ipynb - OK\n",
      "\tmy_lib.py - OK\n",
      "\tdf_grading_pred.csv - OK\n"
     ]
    }
   ],
   "source": [
    "my_lib.make_assignment()"
   ]
  },
  {
   "cell_type": "code",
   "execution_count": null,
   "metadata": {},
   "outputs": [],
   "source": []
  }
 ],
 "metadata": {
  "kernelspec": {
   "display_name": "Python 3",
   "language": "python",
   "name": "python3"
  },
  "language_info": {
   "codemirror_mode": {
    "name": "ipython",
    "version": 3
   },
   "file_extension": ".py",
   "mimetype": "text/x-python",
   "name": "python",
   "nbconvert_exporter": "python",
   "pygments_lexer": "ipython3",
   "version": "3.6.8"
  }
 },
 "nbformat": 4,
 "nbformat_minor": 4
}
