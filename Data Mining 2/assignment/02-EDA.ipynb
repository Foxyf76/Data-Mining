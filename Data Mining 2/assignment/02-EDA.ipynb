{
 "cells": [
  {
   "cell_type": "markdown",
   "metadata": {
    "Collapsed": "false"
   },
   "source": [
    "# Texas Hospital Discharge - EDA"
   ]
  },
  {
   "cell_type": "code",
   "execution_count": 1,
   "metadata": {
    "Collapsed": "false"
   },
   "outputs": [],
   "source": [
    "import pandas as pd\n",
    "import numpy as np\n",
    "import matplotlib.pyplot as plt\n",
    "import matplotlib\n",
    "\n",
    "import seaborn as sns\n",
    "sns.set_style(\"darkgrid\")\n",
    "\n",
    "from IPython.display import display, Markdown\n",
    "pd.set_option('display.max_columns', None)  \n",
    "\n",
    "import glob, os\n",
    "\n",
    "DEBUG = False\n",
    "SEED = 42"
   ]
  },
  {
   "cell_type": "code",
   "execution_count": 2,
   "metadata": {
    "Collapsed": "false"
   },
   "outputs": [],
   "source": [
    "%load_ext autoreload\n",
    "%autoreload 2\n",
    "\n",
    "import my_lib"
   ]
  },
  {
   "cell_type": "code",
   "execution_count": 3,
   "metadata": {},
   "outputs": [
    {
     "data": {
      "text/plain": [
       "(49984, 195)"
      ]
     },
     "execution_count": 3,
     "metadata": {},
     "output_type": "execute_result"
    }
   ],
   "source": [
    "df = pd.read_csv(\"data/df_train_sample_00_of_20.csv\", dtype=str)\n",
    "df.shape"
   ]
  },
  {
   "cell_type": "markdown",
   "metadata": {},
   "source": [
    "## 1. Assign Labels"
   ]
  },
  {
   "cell_type": "code",
   "execution_count": 4,
   "metadata": {},
   "outputs": [],
   "source": [
    "feature_labels = {}\n",
    "target = \"TARGET\"\n",
    "relevant_features = [\"TYPE_OF_ADMISSION\",\"SOURCE_OF_ADMISSION\",\"PAT_STATE\", \"SEX_CODE\", \"RACE\", \"ETHNICITY\", \"ADMIT_WEEKDAY\"]"
   ]
  },
  {
   "cell_type": "code",
   "execution_count": 5,
   "metadata": {},
   "outputs": [
    {
     "name": "stdout",
     "output_type": "stream",
     "text": [
      "{'ADMIT_WEEKDAY': {'1': '(1) Monday',\n",
      "                   '2': '(2) Tuesday',\n",
      "                   '3': '(3) Wednesday',\n",
      "                   '4': '(4) Thursday',\n",
      "                   '5': '(5) Friday',\n",
      "                   '6': '(6) Saturday',\n",
      "                   '7': '(7) Sunday',\n",
      "                   '`': '(`) Invalid'},\n",
      " 'ETHNICITY': {'1': '(1) Hispanic',\n",
      "               '2': '(2) Not Hispanic',\n",
      "               '`': '(`) Invalid'},\n",
      " 'PAT_STATE': {'AR': '(AR) Arkansas',\n",
      "               'FC': '(FC) Foreign country',\n",
      "               'LA': '(LA) Louisiana',\n",
      "               'NM': '(NM) New Mexico',\n",
      "               'OK': '(OK) Oklahoma',\n",
      "               'TX': '(TX) Texas',\n",
      "               'XX': '(XX) Foreign country',\n",
      "               'ZZ': '(ZZ) All other states and American Territories'},\n",
      " 'RACE': {'1': '(1) American Indian/Eskimo/Aleut',\n",
      "          '2': '(2) Asian or Pacific Islander',\n",
      "          '3': '(3) Black',\n",
      "          '4': '(4) White',\n",
      "          '5': '(5) Other',\n",
      "          '`': '(`) Invalid'},\n",
      " 'SEX_CODE': {'F': '(F) Female', 'M': '(M) Male', 'U': '(U) Unknown'},\n",
      " 'SOURCE_OF_ADMISSION': {'0': '(0) Transfer from psychiatric hospital',\n",
      "                         '1': '(1) Non-Healthcare Facility Point of Origin',\n",
      "                         '2': '(2) Clinic referral',\n",
      "                         '4': '(4) Transfer from a hospital',\n",
      "                         '5': '(5) Transfer from a skilled nursing facility',\n",
      "                         '6': '(6) Transfer from another health care facility',\n",
      "                         '8': '(8) Court/Law Enforcement',\n",
      "                         '9': '(9) Information not available',\n",
      "                         'B': '(B) Transfer from another home health agency',\n",
      "                         'D': '(D) Transfer within Hospital',\n",
      "                         'E': '(E) Transfer from Amubulatory Surgery Center',\n",
      "                         'F': '(F) Transfer from a Hospice Facility',\n",
      "                         '`': '(`) Invalid'},\n",
      " 'TYPE_OF_ADMISSION': {'1': '(1) Emergency',\n",
      "                       '2': '(2) Urgent',\n",
      "                       '3': '(3) Elective',\n",
      "                       '4': '(4) Newborn',\n",
      "                       '5': '(5) Trauma Center',\n",
      "                       '9': '(9) Information Not Available'}}\n"
     ]
    }
   ],
   "source": [
    "\n",
    "# TYPE_OF_ADMISSION\n",
    "codes = \"1 2 3 4 5 9\".split()\n",
    "labels = [\"Emergency\", \"Urgent\", \"Elective\", \"Newborn\", \"Trauma Center\", \"Information Not Available\"]\n",
    "feature_labels[\"TYPE_OF_ADMISSION\"] = {c:\"(%s) %s\" %(c,l) for c,l in zip(codes,labels)}\n",
    "\n",
    "# SOURCE_OF_ADMISSION\n",
    "my_lib.encode_labels = lambda s: {line[0]: \"(%s) %s\" % (line[0], line[2:].strip()) for line in s.split(\"\\n\") if len(line) > 0}\n",
    "\n",
    "feature_labels[\"SOURCE_OF_ADMISSION\"] = my_lib.encode_labels(\"\"\"\n",
    "1 Non-Healthcare Facility Point of Origin\n",
    "2 Clinic referral\n",
    "4 Transfer from a hospital\n",
    "5 Transfer from a skilled nursing facility\n",
    "6 Transfer from another health care facility\n",
    "8 Court/Law Enforcement\n",
    "9 Information not available\n",
    "0 Transfer from psychiatric hospital\n",
    "B Transfer from another home health agency\n",
    "D Transfer within Hospital\n",
    "E Transfer from Amubulatory Surgery Center\n",
    "F Transfer from a Hospice Facility\n",
    "` Invalid \"\"\")\n",
    "\n",
    "# PAT_STATE\n",
    "my_lib.encode_labels = lambda s: {line[0:2].strip(): \"(%s) %s\" % (line[0:2], line[3:].strip()) for line in s.split(\"\\n\") if len(line) > 0}\n",
    "\n",
    "feature_labels[\"PAT_STATE\"] = my_lib.encode_labels(\"\"\"\n",
    "AR Arkansas\n",
    "LA Louisiana\n",
    "NM New Mexico\n",
    "OK Oklahoma\n",
    "TX Texas\n",
    "ZZ All other states and American Territories\n",
    "FC Foreign country\n",
    "XX Foreign country\"\"\")\n",
    "\n",
    "# SEX_CODE\n",
    "codes = [\"M\", \"F\", \"U\"]\n",
    "labels = [\"Male\", \"Female\", \"Unknown\"]\n",
    "feature_labels[\"SEX_CODE\"] = {c:\"(%s) %s\" %(c,l) for c,l in zip(codes,labels)}\n",
    "\n",
    "# RACE\n",
    "my_lib.encode_labels = lambda s: {line[0]: \"(%s) %s\" % (line[0], line[2:].strip()) for line in s.split(\"\\n\") if len(line) > 0}\n",
    "\n",
    "feature_labels[\"RACE\"] = my_lib.encode_labels(\"\"\"\n",
    "1 American Indian/Eskimo/Aleut\n",
    "2 Asian or Pacific Islander\n",
    "3 Black\n",
    "4 White\n",
    "5 Other\n",
    "` Invalid\"\"\")\n",
    "\n",
    "# ETHNICITY\n",
    "codes = [\"1\", \"2\", \"`\"]\n",
    "labels = [\"Hispanic\", \"Not Hispanic\", \"Invalid\"]\n",
    "feature_labels[\"ETHNICITY\"] = {c:\"(%s) %s\" %(c,l) for c,l in zip(codes,labels)}\n",
    "\n",
    "# ADMIT_WEEKDAY\n",
    "my_lib.encode_labels = lambda s: {line[0]: \"(%s) %s\" % (line[0], line[2:].strip()) for line in s.split(\"\\n\") if len(line) > 0}\n",
    "\n",
    "feature_labels[\"ADMIT_WEEKDAY\"] = my_lib.encode_labels(\"\"\"\n",
    "1 Monday \n",
    "2 Tuesday \n",
    "3 Wednesday \n",
    "4 Thursday \n",
    "5 Friday\n",
    "6 Saturday\n",
    "7 Sunday\n",
    "` Invalid\"\"\")\n",
    "\n",
    "from pprint import pprint\n",
    "pprint(feature_labels)"
   ]
  },
  {
   "cell_type": "code",
   "execution_count": 6,
   "metadata": {},
   "outputs": [
    {
     "name": "stdout",
     "output_type": "stream",
     "text": [
      "\n",
      "\n"
     ]
    },
    {
     "data": {
      "text/markdown": [
       "#### TYPE_OF_ADMISSION"
      ],
      "text/plain": [
       "<IPython.core.display.Markdown object>"
      ]
     },
     "metadata": {},
     "output_type": "display_data"
    },
    {
     "data": {
      "text/markdown": [
       "**Distribution**"
      ],
      "text/plain": [
       "<IPython.core.display.Markdown object>"
      ]
     },
     "metadata": {},
     "output_type": "display_data"
    },
    {
     "data": {
      "text/plain": [
       "(1) Emergency                    21625\n",
       "(3) Elective                     12951\n",
       "(2) Urgent                        8564\n",
       "(4) Newborn                       6409\n",
       "(5) Trauma Center                  233\n",
       "(9) Information Not Available      201\n",
       "NaN                                  1\n",
       "Name: TYPE_OF_ADMISSION, dtype: int64"
      ]
     },
     "metadata": {},
     "output_type": "display_data"
    },
    {
     "data": {
      "text/markdown": [
       "**Count Plots**"
      ],
      "text/plain": [
       "<IPython.core.display.Markdown object>"
      ]
     },
     "metadata": {},
     "output_type": "display_data"
    },
    {
     "data": {
      "image/png": "[encoded data removed]",
      "text/plain": [
       "<Figure size 648x288 with 2 Axes>"
      ]
     },
     "metadata": {},
     "output_type": "display_data"
    },
    {
     "data": {
      "text/markdown": [
       "**Chi-Sq Goodness of Fit**"
      ],
      "text/plain": [
       "<IPython.core.display.Markdown object>"
      ]
     },
     "metadata": {},
     "output_type": "display_data"
    },
    {
     "name": "stdout",
     "output_type": "stream",
     "text": [
      "Chi-Square statistic 3.3733e+03 (p=0.0000e+00, dof=12)\n",
      "\n",
      "\n"
     ]
    },
    {
     "data": {
      "text/markdown": [
       "#### SOURCE_OF_ADMISSION"
      ],
      "text/plain": [
       "<IPython.core.display.Markdown object>"
      ]
     },
     "metadata": {},
     "output_type": "display_data"
    },
    {
     "data": {
      "text/markdown": [
       "**Distribution**"
      ],
      "text/plain": [
       "<IPython.core.display.Markdown object>"
      ]
     },
     "metadata": {},
     "output_type": "display_data"
    },
    {
     "data": {
      "text/plain": [
       "(1) Non-Healthcare Facility Point of Origin       29906\n",
       "(2) Clinic referral                                8779\n",
       "(5) Transfer from a skilled nursing facility       6636\n",
       "(4) Transfer from a hospital                       3304\n",
       "(6) Transfer from another health care facility      427\n",
       "(8) Court/Law Enforcement                           408\n",
       "(D) Transfer within Hospital                        250\n",
       "(9) Information not available                       234\n",
       "(`) Invalid                                          31\n",
       "NaN                                                   9\n",
       "Name: SOURCE_OF_ADMISSION, dtype: int64"
      ]
     },
     "metadata": {},
     "output_type": "display_data"
    },
    {
     "data": {
      "text/markdown": [
       "**Count Plots**"
      ],
      "text/plain": [
       "<IPython.core.display.Markdown object>"
      ]
     },
     "metadata": {},
     "output_type": "display_data"
    },
    {
     "data": {
      "image/png": "[encoded data removed]",
      "text/plain": [
       "<Figure size 648x288 with 2 Axes>"
      ]
     },
     "metadata": {},
     "output_type": "display_data"
    },
    {
     "data": {
      "text/markdown": [
       "**Chi-Sq Goodness of Fit**"
      ],
      "text/plain": [
       "<IPython.core.display.Markdown object>"
      ]
     },
     "metadata": {},
     "output_type": "display_data"
    },
    {
     "name": "stdout",
     "output_type": "stream",
     "text": [
      "Chi-Square statistic 6.3328e+03 (p=0.0000e+00, dof=18)\n",
      "\n",
      "\n"
     ]
    },
    {
     "data": {
      "text/markdown": [
       "#### PAT_STATE"
      ],
      "text/plain": [
       "<IPython.core.display.Markdown object>"
      ]
     },
     "metadata": {},
     "output_type": "display_data"
    },
    {
     "data": {
      "text/markdown": [
       "**Distribution**"
      ],
      "text/plain": [
       "<IPython.core.display.Markdown object>"
      ]
     },
     "metadata": {},
     "output_type": "display_data"
    },
    {
     "data": {
      "text/plain": [
       "(TX) Texas                                        48606\n",
       "(ZZ) All other states and American Territories      412\n",
       "(NM) New Mexico                                     316\n",
       "(AR) Arkansas                                       223\n",
       "(OK) Oklahoma                                       170\n",
       "(FC) Foreign country                                138\n",
       "(LA) Louisiana                                      101\n",
       "NaN                                                  12\n",
       "(XX) Foreign country                                  6\n",
       "Name: PAT_STATE, dtype: int64"
      ]
     },
     "metadata": {},
     "output_type": "display_data"
    },
    {
     "data": {
      "text/markdown": [
       "**Count Plots**"
      ],
      "text/plain": [
       "<IPython.core.display.Markdown object>"
      ]
     },
     "metadata": {},
     "output_type": "display_data"
    },
    {
     "data": {
      "image/png": "[encoded data removed]",
      "text/plain": [
       "<Figure size 648x288 with 2 Axes>"
      ]
     },
     "metadata": {},
     "output_type": "display_data"
    },
    {
     "data": {
      "text/markdown": [
       "**Chi-Sq Goodness of Fit**"
      ],
      "text/plain": [
       "<IPython.core.display.Markdown object>"
      ]
     },
     "metadata": {},
     "output_type": "display_data"
    },
    {
     "name": "stdout",
     "output_type": "stream",
     "text": [
      "Chi-Square statistic 1.3535e+02 (p=5.8288e-21, dof=16)\n",
      "\n",
      "\n"
     ]
    },
    {
     "data": {
      "text/markdown": [
       "#### SEX_CODE"
      ],
      "text/plain": [
       "<IPython.core.display.Markdown object>"
      ]
     },
     "metadata": {},
     "output_type": "display_data"
    },
    {
     "data": {
      "text/markdown": [
       "**Distribution**"
      ],
      "text/plain": [
       "<IPython.core.display.Markdown object>"
      ]
     },
     "metadata": {},
     "output_type": "display_data"
    },
    {
     "data": {
      "text/plain": [
       "(F) Female     27809\n",
       "(M) Male       18638\n",
       "NaN             3532\n",
       "(U) Unknown        5\n",
       "Name: SEX_CODE, dtype: int64"
      ]
     },
     "metadata": {},
     "output_type": "display_data"
    },
    {
     "data": {
      "text/markdown": [
       "**Count Plots**"
      ],
      "text/plain": [
       "<IPython.core.display.Markdown object>"
      ]
     },
     "metadata": {},
     "output_type": "display_data"
    },
    {
     "data": {
      "image/png": "[encoded data removed]",
      "text/plain": [
       "<Figure size 648x288 with 2 Axes>"
      ]
     },
     "metadata": {},
     "output_type": "display_data"
    },
    {
     "data": {
      "text/markdown": [
       "**Chi-Sq Goodness of Fit**"
      ],
      "text/plain": [
       "<IPython.core.display.Markdown object>"
      ]
     },
     "metadata": {},
     "output_type": "display_data"
    },
    {
     "name": "stdout",
     "output_type": "stream",
     "text": [
      "Chi-Square statistic 2.4842e+02 (p=1.4247e-52, dof=4)\n",
      "\n",
      "\n"
     ]
    },
    {
     "data": {
      "text/markdown": [
       "#### RACE"
      ],
      "text/plain": [
       "<IPython.core.display.Markdown object>"
      ]
     },
     "metadata": {},
     "output_type": "display_data"
    },
    {
     "data": {
      "text/markdown": [
       "**Distribution**"
      ],
      "text/plain": [
       "<IPython.core.display.Markdown object>"
      ]
     },
     "metadata": {},
     "output_type": "display_data"
    },
    {
     "data": {
      "text/plain": [
       "(4) White                           31220\n",
       "(5) Other                           10838\n",
       "(3) Black                            6585\n",
       "(2) Asian or Pacific Islander        1021\n",
       "NaN                                   171\n",
       "(1) American Indian/Eskimo/Aleut      138\n",
       "(`) Invalid                            11\n",
       "Name: RACE, dtype: int64"
      ]
     },
     "metadata": {},
     "output_type": "display_data"
    },
    {
     "data": {
      "text/markdown": [
       "**Count Plots**"
      ],
      "text/plain": [
       "<IPython.core.display.Markdown object>"
      ]
     },
     "metadata": {},
     "output_type": "display_data"
    },
    {
     "data": {
      "image/png": "[encoded data removed]",
      "text/plain": [
       "<Figure size 648x288 with 2 Axes>"
      ]
     },
     "metadata": {},
     "output_type": "display_data"
    },
    {
     "data": {
      "text/markdown": [
       "**Chi-Sq Goodness of Fit**"
      ],
      "text/plain": [
       "<IPython.core.display.Markdown object>"
      ]
     },
     "metadata": {},
     "output_type": "display_data"
    },
    {
     "name": "stdout",
     "output_type": "stream",
     "text": [
      "Chi-Square statistic 2.2923e+02 (p=1.2459e-43, dof=10)\n",
      "\n",
      "\n"
     ]
    },
    {
     "data": {
      "text/markdown": [
       "#### ETHNICITY"
      ],
      "text/plain": [
       "<IPython.core.display.Markdown object>"
      ]
     },
     "metadata": {},
     "output_type": "display_data"
    },
    {
     "data": {
      "text/markdown": [
       "**Distribution**"
      ],
      "text/plain": [
       "<IPython.core.display.Markdown object>"
      ]
     },
     "metadata": {},
     "output_type": "display_data"
    },
    {
     "data": {
      "text/plain": [
       "(2) Not Hispanic    35094\n",
       "(1) Hispanic        14334\n",
       "NaN                   366\n",
       "(`) Invalid           190\n",
       "Name: ETHNICITY, dtype: int64"
      ]
     },
     "metadata": {},
     "output_type": "display_data"
    },
    {
     "data": {
      "text/markdown": [
       "**Count Plots**"
      ],
      "text/plain": [
       "<IPython.core.display.Markdown object>"
      ]
     },
     "metadata": {},
     "output_type": "display_data"
    },
    {
     "data": {
      "image/png": "[encoded data removed]",
      "text/plain": [
       "<Figure size 648x288 with 2 Axes>"
      ]
     },
     "metadata": {},
     "output_type": "display_data"
    },
    {
     "data": {
      "text/markdown": [
       "**Chi-Sq Goodness of Fit**"
      ],
      "text/plain": [
       "<IPython.core.display.Markdown object>"
      ]
     },
     "metadata": {},
     "output_type": "display_data"
    },
    {
     "name": "stdout",
     "output_type": "stream",
     "text": [
      "Chi-Square statistic 3.8875e+02 (p=7.4994e-83, dof=4)\n",
      "\n",
      "\n"
     ]
    },
    {
     "data": {
      "text/markdown": [
       "#### ADMIT_WEEKDAY"
      ],
      "text/plain": [
       "<IPython.core.display.Markdown object>"
      ]
     },
     "metadata": {},
     "output_type": "display_data"
    },
    {
     "data": {
      "text/markdown": [
       "**Distribution**"
      ],
      "text/plain": [
       "<IPython.core.display.Markdown object>"
      ]
     },
     "metadata": {},
     "output_type": "display_data"
    },
    {
     "data": {
      "text/plain": [
       "(1) Monday       8746\n",
       "(2) Tuesday      8555\n",
       "(3) Wednesday    8078\n",
       "(4) Thursday     7792\n",
       "(5) Friday       7411\n",
       "(6) Saturday     4815\n",
       "(7) Sunday       4587\n",
       "Name: ADMIT_WEEKDAY, dtype: int64"
      ]
     },
     "metadata": {},
     "output_type": "display_data"
    },
    {
     "data": {
      "text/markdown": [
       "**Count Plots**"
      ],
      "text/plain": [
       "<IPython.core.display.Markdown object>"
      ]
     },
     "metadata": {},
     "output_type": "display_data"
    },
    {
     "data": {
      "image/png": "[encoded data removed]",
      "text/plain": [
       "<Figure size 648x288 with 2 Axes>"
      ]
     },
     "metadata": {},
     "output_type": "display_data"
    },
    {
     "data": {
      "text/markdown": [
       "**Chi-Sq Goodness of Fit**"
      ],
      "text/plain": [
       "<IPython.core.display.Markdown object>"
      ]
     },
     "metadata": {},
     "output_type": "display_data"
    },
    {
     "name": "stdout",
     "output_type": "stream",
     "text": [
      "Chi-Square statistic 1.7084e+02 (p=3.2118e-30, dof=12)\n"
     ]
    }
   ],
   "source": [
    "for f in relevant_features:\n",
    "    my_lib.eda_categorical(df, f, target, labels=feature_labels[f])"
   ]
  },
  {
   "cell_type": "markdown",
   "metadata": {},
   "source": [
    "## 2. Cleaning Categorical Features"
   ]
  },
  {
   "cell_type": "code",
   "execution_count": 10,
   "metadata": {},
   "outputs": [
    {
     "name": "stdout",
     "output_type": "stream",
     "text": [
      "Feture TYPE_OF_ADMISSION -> ['3' '1' '2' '4' '5' '9']\n",
      "Feture SOURCE_OF_ADMISSION -> ['4' '1' '2' '8' '5' '9' '6' 'D']\n",
      "Feture PAT_STATE -> ['TX' 'ZZ' 'XX']\n"
     ]
    }
   ],
   "source": [
    "# TYPE_OF_ADMISSION \n",
    "feature = \"TYPE_OF_ADMISSION\"\n",
    "df[feature].fillna(\"9\", inplace=True)\n",
    "df.loc[df[feature] == \"`\", feature] = \"9\"\n",
    "print(\"Feture %s -> %s\" % (feature, df[feature].unique()))\n",
    "\n",
    "# SOURCE_OF_ADMISSION\n",
    "feature = \"SOURCE_OF_ADMISSION\"\n",
    "df[feature].fillna(\"9\", inplace=True)\n",
    "df.loc[df[feature].isin([\"`\", \"3\", \"NaN\"]), feature] = \"9\"\n",
    "print(\"Feture %s -> %s\" % (feature, df[feature].unique()))\n",
    "\n",
    "# PAT_STATE\n",
    "feature = \"PAT_STATE\"\n",
    "df[feature].fillna(\"XX\", inplace=True)\n",
    "df.loc[df[feature].isin([\"`\", \"FC\", \"AR\", \"OK\", \"LA\", \"NM\"]), feature] = \"ZZ\"\n",
    "df.loc[df[feature].isin([\"`\", \"FC\"]), feature] = \"XX\"\n",
    "print(\"Feture %s -> %s\" % (feature, df[feature].unique()))"
   ]
  },
  {
   "cell_type": "code",
   "execution_count": null,
   "metadata": {},
   "outputs": [],
   "source": []
  }
 ],
 "metadata": {
  "kernelspec": {
   "display_name": "Python 3",
   "language": "python",
   "name": "python3"
  },
  "language_info": {
   "codemirror_mode": {
    "name": "ipython",
    "version": 3
   },
   "file_extension": ".py",
   "mimetype": "text/x-python",
   "name": "python",
   "nbconvert_exporter": "python",
   "pygments_lexer": "ipython3",
   "version": "3.6.8"
  }
 },
 "nbformat": 4,
 "nbformat_minor": 4
}
