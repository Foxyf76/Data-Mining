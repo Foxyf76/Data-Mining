{
 "cells": [
  {
   "cell_type": "markdown",
   "metadata": {
    "Collapsed": "false"
   },
   "source": [
    "# Texas Hospital Discharge - EDA"
   ]
  },
  {
   "cell_type": "code",
   "execution_count": 48,
   "metadata": {
    "Collapsed": "false"
   },
   "outputs": [],
   "source": [
    "import pandas as pd\n",
    "import numpy as np\n",
    "import matplotlib.pyplot as plt\n",
    "import matplotlib\n",
    "\n",
    "import seaborn as sns\n",
    "sns.set_style(\"darkgrid\")\n",
    "\n",
    "from IPython.display import display, Markdown\n",
    "pd.set_option('display.max_columns', None)  \n",
    "\n",
    "import glob, os\n",
    "\n",
    "HYPER_TUNING = False\n",
    "DEBUG = False\n",
    "SEED = 42"
   ]
  },
  {
   "cell_type": "code",
   "execution_count": 49,
   "metadata": {
    "Collapsed": "false"
   },
   "outputs": [
    {
     "name": "stdout",
     "output_type": "stream",
     "text": [
      "The autoreload extension is already loaded. To reload it, use:\n",
      "  %reload_ext autoreload\n"
     ]
    }
   ],
   "source": [
    "%load_ext autoreload\n",
    "%autoreload 2\n",
    "\n",
    "import my_lib"
   ]
  },
  {
   "cell_type": "code",
   "execution_count": 50,
   "metadata": {},
   "outputs": [
    {
     "data": {
      "text/plain": [
       "(49984, 195)"
      ]
     },
     "execution_count": 50,
     "metadata": {},
     "output_type": "execute_result"
    }
   ],
   "source": [
    "df_patients = pd.read_csv(\"data/df_train_sample_01_of_20.csv\", dtype=str)\n",
    "df_patients.shape"
   ]
  },
  {
   "cell_type": "code",
   "execution_count": 51,
   "metadata": {},
   "outputs": [
    {
     "data": {
      "text/plain": [
       "(606, 10)"
      ]
     },
     "execution_count": 51,
     "metadata": {},
     "output_type": "execute_result"
    }
   ],
   "source": [
    "df_facility = pd.read_csv(\"data/facility.csv\", dtype = str)\n",
    "df_facility.shape"
   ]
  },
  {
   "cell_type": "code",
   "execution_count": 52,
   "metadata": {},
   "outputs": [
    {
     "data": {
      "text/plain": [
       "(49984, 204)"
      ]
     },
     "execution_count": 52,
     "metadata": {},
     "output_type": "execute_result"
    }
   ],
   "source": [
    "df = pd.merge(df_patients, df_facility, on=\"THCIC_ID\", how=\"left\")\n",
    "df.shape"
   ]
  },
  {
   "cell_type": "code",
   "execution_count": 53,
   "metadata": {},
   "outputs": [],
   "source": [
    "df[\"FAC_UNKNOWN\"] = df.FAC_OTHER_LTC_IND.isnull().astype(int)"
   ]
  },
  {
   "cell_type": "code",
   "execution_count": 54,
   "metadata": {},
   "outputs": [],
   "source": [
    "for c in df.columns:\n",
    "    if c [:3]==\"FAC\":\n",
    "        df[c].fillna(0, inplace=True)"
   ]
  },
  {
   "cell_type": "markdown",
   "metadata": {},
   "source": [
    "## 1. Encode Target"
   ]
  },
  {
   "cell_type": "code",
   "execution_count": 55,
   "metadata": {},
   "outputs": [
    {
     "name": "stdout",
     "output_type": "stream",
     "text": [
      "{0: 'long', 1: 'medium', 2: 'short'}\n"
     ]
    }
   ],
   "source": [
    "from sklearn.preprocessing import LabelEncoder\n",
    "if df['TARGET'].dtype!=int:\n",
    "    le_target = LabelEncoder()\n",
    "    df['TARGET']= le_target.fit_transform(df['TARGET'])\n",
    "else:\n",
    "    pass\n",
    "\n",
    "target_labels = {c:le_target.inverse_transform([c])[0] for c in [0,1,2]}\n",
    "print(target_labels)"
   ]
  },
  {
   "cell_type": "markdown",
   "metadata": {},
   "source": [
    "## 1.1 Applying Cleaned Cat. Features"
   ]
  },
  {
   "cell_type": "code",
   "execution_count": 56,
   "metadata": {},
   "outputs": [
    {
     "name": "stdout",
     "output_type": "stream",
     "text": [
      "Feature TYPE_OF_ADMISSION -> ['1' '3' '2' '4' '5' '9']\n",
      "Feature SOURCE_OF_ADMISSION -> ['1' '4' '5' '2' 'D' '6' '9' '8' '0']\n",
      "Feature PAT_STATE -> ['TX' 'ZZ' 'XX']\n",
      "Feature SEX_CODE -> ['U' 'F' 'M']\n",
      "Feature RACE -> ['5' '4' '3' '2' '1']\n",
      "Feature ETHNICITY -> ['1' '2' '3']\n",
      "Feature PAT_AGE -> ['18-44 (HIV & D/A)' '60-69' '20-29' '0' '10-19' '70-79' '50-59'\n",
      " '45-64 (HIV & D/A)' '80-89' '40-49' '30-39' '90+' '1-9'\n",
      " '0-17 (HIV & D/A)' '65-74 (HIV & D/A)' '75+ (HIV & D/A)']\n"
     ]
    }
   ],
   "source": [
    "my_lib.clean_categories(df)"
   ]
  },
  {
   "cell_type": "markdown",
   "metadata": {},
   "source": [
    "## 1.2 Feature Engineering"
   ]
  },
  {
   "cell_type": "code",
   "execution_count": 57,
   "metadata": {},
   "outputs": [],
   "source": [
    "def feature_engineering(df):\n",
    "    \n",
    "    feature = \"ADMITTING_DIAGNOSIS_UNCHANGED\"\n",
    "    df[feature] = (df.ADMITTING_DIAGNOSIS==df.PRINC_DIAG_CODE) & (df.POA_PRINC_DIAG_CODE==\"Y\")\n",
    "    \n",
    "    feature = \"ADMITTING_DIAGNOSIS_CHANGED\"\n",
    "    df[feature] = (df.ADMITTING_DIAGNOSIS!=df.PRINC_DIAG_CODE) & (df.POA_PRINC_DIAG_CODE==\"Y\")\n",
    "    \n",
    "    # admitted via type 'urgent' or 'trauma center' should result in longer stays\n",
    "    feature = \"SERIOUS_ADMISSION\"\n",
    "    df[feature] = (df.TYPE_OF_ADMISSION==\"2\") | (df.TYPE_OF_ADMISSION==\"5\")\n",
    "    \n",
    "    # admitted via type 'newborn' should result in shorter stays\n",
    "    feature = \"MINOR_ADMISSION\"\n",
    "    df[feature] = (df.TYPE_OF_ADMISSION==\"4\")\n",
    "    \n",
    "    \n",
    "feature_engineering(df)"
   ]
  },
  {
   "cell_type": "markdown",
   "metadata": {},
   "source": [
    "## 1.3 Test-Train Split"
   ]
  },
  {
   "cell_type": "code",
   "execution_count": 58,
   "metadata": {},
   "outputs": [],
   "source": [
    "from sklearn.model_selection import train_test_split\n",
    "\n",
    "target = \"TARGET\"\n",
    "X = df.drop(target, axis=1)\n",
    "y = df[target]\n",
    "df_X_train, df_X_test, df_y_train, df_y_test = train_test_split(X, y, test_size=0.4, stratify=y, random_state=SEED)"
   ]
  },
  {
   "cell_type": "markdown",
   "metadata": {},
   "source": [
    "## 1.4 Encoding of Categorical Features"
   ]
  },
  {
   "cell_type": "markdown",
   "metadata": {},
   "source": [
    "### 1.4.1 Label Binarizer"
   ]
  },
  {
   "cell_type": "code",
   "execution_count": 59,
   "metadata": {},
   "outputs": [],
   "source": [
    "from sklearn.preprocessing import LabelBinarizer\n",
    "\n",
    "def encode_features(df_X_train, df_X_test, cat_LabelBinarize=[], bool_features=[], debug=False):\n",
    "    \n",
    "    # create dataframes to populate\n",
    "    df_X_train_model = df_X_train.loc[:, []]\n",
    "    df_X_test_model = df_X_test.loc[:, []]\n",
    "    \n",
    "    # encoding features using LabelBinarizer\n",
    "    for feature in cat_LabelBinarize:\n",
    "    \n",
    "        if debug: print(feature)\n",
    "            \n",
    "        # fit and transform on train -> fit decides what label goes to each category\n",
    "        lb = LabelBinarizer()\n",
    "        lb_results = lb.fit_transform(df_X_train[feature].astype(\"str\"))\n",
    "        names= [feature+\"_\"+l for l in lb.classes_]\n",
    "        \n",
    "        if debug: print(\"\\t\", names)\n",
    "            \n",
    "        for k, name in enumerate(names):\n",
    "            df_X_train_model[name] = lb_results[:, k]\n",
    "\n",
    "        # transform on test -> this transform uses the fit already stored\n",
    "        lb_results = lb.transform(df_X_test[feature].astype(\"str\"))\n",
    "        names= [feature+\"_\"+l for l in lb.classes_]\n",
    "        \n",
    "        for k, name in enumerate(names):\n",
    "            df_X_test_model[name] = lb_results[:, k]\n",
    "        \n",
    "    for feature in bool_features:\n",
    "        df_X_train_model[feature] = df_X_train[feature].astype(int)\n",
    "        df_X_test_model[feature] = df_X_test[feature].astype(int)\n",
    "    \n",
    "    return df_X_train_model, df_X_test_model\n",
    "\n",
    "cat_features = [\"TYPE_OF_ADMISSION\",\"SOURCE_OF_ADMISSION\",\"PAT_STATE\", \"SEX_CODE\", \"RACE\", \"ETHNICITY\", \"ADMIT_WEEKDAY\", \"PAT_AGE\", \"POA_PROVIDER_INDICATOR\"]\n",
    "bool_features = [\"ADMITTING_DIAGNOSIS_UNCHANGED\", \"ADMITTING_DIAGNOSIS_CHANGED\"] + [c for c in df.columns if c[:3]==\"FAC\"]\n",
    "\n",
    "df_X_train_model, df_X_test_model = encode_features(df_X_train, df_X_test, cat_LabelBinarize=cat_features, bool_features=bool_features)"
   ]
  },
  {
   "cell_type": "code",
   "execution_count": 60,
   "metadata": {},
   "outputs": [
    {
     "data": {
      "text/plain": [
       "Index(['TYPE_OF_ADMISSION_1', 'TYPE_OF_ADMISSION_2', 'TYPE_OF_ADMISSION_3',\n",
       "       'TYPE_OF_ADMISSION_4', 'TYPE_OF_ADMISSION_5', 'TYPE_OF_ADMISSION_9',\n",
       "       'SOURCE_OF_ADMISSION_1', 'SOURCE_OF_ADMISSION_2',\n",
       "       'SOURCE_OF_ADMISSION_4', 'SOURCE_OF_ADMISSION_5',\n",
       "       'SOURCE_OF_ADMISSION_6', 'SOURCE_OF_ADMISSION_8',\n",
       "       'SOURCE_OF_ADMISSION_9', 'SOURCE_OF_ADMISSION_D', 'PAT_STATE_TX',\n",
       "       'PAT_STATE_XX', 'PAT_STATE_ZZ', 'SEX_CODE_F', 'SEX_CODE_M',\n",
       "       'SEX_CODE_U', 'RACE_1', 'RACE_2', 'RACE_3', 'RACE_4', 'RACE_5',\n",
       "       'ETHNICITY_1', 'ETHNICITY_2', 'ETHNICITY_3', 'ADMIT_WEEKDAY_1',\n",
       "       'ADMIT_WEEKDAY_2', 'ADMIT_WEEKDAY_3', 'ADMIT_WEEKDAY_4',\n",
       "       'ADMIT_WEEKDAY_5', 'ADMIT_WEEKDAY_6', 'ADMIT_WEEKDAY_7', 'PAT_AGE_0',\n",
       "       'PAT_AGE_0-17 (HIV & D/A)', 'PAT_AGE_1-9', 'PAT_AGE_10-19',\n",
       "       'PAT_AGE_18-44 (HIV & D/A)', 'PAT_AGE_20-29', 'PAT_AGE_30-39',\n",
       "       'PAT_AGE_40-49', 'PAT_AGE_45-64 (HIV & D/A)', 'PAT_AGE_50-59',\n",
       "       'PAT_AGE_60-69', 'PAT_AGE_65-74 (HIV & D/A)', 'PAT_AGE_70-79',\n",
       "       'PAT_AGE_75+ (HIV & D/A)', 'PAT_AGE_80-89', 'PAT_AGE_90+',\n",
       "       'POA_PROVIDER_INDICATOR_M', 'POA_PROVIDER_INDICATOR_R',\n",
       "       'POA_PROVIDER_INDICATOR_X', 'ADMITTING_DIAGNOSIS_UNCHANGED',\n",
       "       'ADMITTING_DIAGNOSIS_CHANGED', 'FAC_TEACHING_IND', 'FAC_PSYCH_IND',\n",
       "       'FAC_REHAB_IND', 'FAC_ACUTE_CARE_IND', 'FAC_SNF_IND',\n",
       "       'FAC_LONG_TERM_AC_IND', 'FAC_OTHER_LTC_IND', 'FAC_PEDS_IND',\n",
       "       'FAC_UNKNOWN'],\n",
       "      dtype='object')"
      ]
     },
     "execution_count": 60,
     "metadata": {},
     "output_type": "execute_result"
    }
   ],
   "source": [
    "df_X_train_model.columns"
   ]
  },
  {
   "cell_type": "code",
   "execution_count": 61,
   "metadata": {},
   "outputs": [],
   "source": [
    "# df_X_train_model.drop(columns=features, inplace=True)"
   ]
  },
  {
   "cell_type": "code",
   "execution_count": 62,
   "metadata": {},
   "outputs": [],
   "source": [
    "X_train, y_train = df_X_train_model.values, df_y_train.values\n",
    "X_test, y_test = df_X_test_model.values, df_y_test.values"
   ]
  },
  {
   "cell_type": "code",
   "execution_count": 63,
   "metadata": {},
   "outputs": [],
   "source": [
    "from sklearn.linear_model import LogisticRegression, SGDClassifier\n",
    "from sklearn.svm import SVC\n",
    "from sklearn.neighbors import KNeighborsClassifier\n",
    "from sklearn.tree import DecisionTreeClassifier\n",
    "from sklearn.ensemble import ExtraTreesClassifier, BaggingClassifier\n",
    "\n",
    "base_clf = SGDClassifier(loss=\"log\", eta0=10, penalty=\"l1\", learning_rate=\"adaptive\", class_weight=\"balanced\")\n",
    "\n",
    "classifiers = {\n",
    "    \"LogisticRegression\": LogisticRegression(C=0.1, penalty='l1', solver='liblinear'),\n",
    "    \"ExtraTreeClassifierV1\": ExtraTreesClassifier(bootstrap=False, criterion='gini', max_depth=8, max_features='log2', min_samples_split=2, n_estimators=200),\n",
    "    \"ExtraTreeClassifierV2\": ExtraTreesClassifier(bootstrap=False, criterion='entropy', max_depth=8, max_features='auto', min_samples_split=5, n_estimators=500),\n",
    "    \"BaggingClassifier\": BaggingClassifier(base_estimator=base_clf)\n",
    "}"
   ]
  },
  {
   "cell_type": "markdown",
   "metadata": {},
   "source": [
    "## 1.5 Model Training"
   ]
  },
  {
   "cell_type": "code",
   "execution_count": 64,
   "metadata": {},
   "outputs": [
    {
     "name": "stdout",
     "output_type": "stream",
     "text": [
      "            LogisticRegression has a training score (recall_macro) of 49.31% \n",
      "         ExtraTreeClassifierV1 has a training score (recall_macro) of 48.08% \n",
      "         ExtraTreeClassifierV2 has a training score (recall_macro) of 48.42% \n",
      "             BaggingClassifier has a training score (recall_macro) of 50.09% \n"
     ]
    }
   ],
   "source": [
    "from sklearn.model_selection import cross_val_score\n",
    "from sklearn.metrics import f1_score, make_scorer\n",
    "\n",
    "metric = 'recall_macro'\n",
    "for name, clf in classifiers.items():\n",
    "    clf.fit(X_train, y_train)\n",
    "    training_score = cross_val_score(clf, X_train, y_train, cv=10, n_jobs=-1,\n",
    "        scoring=metric)\n",
    "    \n",
    "    print(\"%30s has a training score (%s) of %.2f%% \" % (name, metric, 100*training_score.mean()))"
   ]
  },
  {
   "cell_type": "code",
   "execution_count": 65,
   "metadata": {},
   "outputs": [],
   "source": [
    "for name in classifiers:\n",
    "    classifiers[name].fit(X_train, y_train)"
   ]
  },
  {
   "cell_type": "markdown",
   "metadata": {},
   "source": [
    "### 1.5.1 Feature Importance"
   ]
  },
  {
   "cell_type": "code",
   "execution_count": 66,
   "metadata": {},
   "outputs": [
    {
     "name": "stdout",
     "output_type": "stream",
     "text": [
      "Feature Ranking\n",
      " 1. feature 53 POA_PROVIDER_INDICATOR_X (0.106085)\n",
      " 2. feature  3  TYPE_OF_ADMISSION_4 (0.103870)\n",
      " 3. feature  9 SOURCE_OF_ADMISSION_5 (0.084171)\n",
      " 4. feature  8 SOURCE_OF_ADMISSION_4 (0.082180)\n",
      " 5. feature 35            PAT_AGE_0 (0.080844)\n",
      " 6. feature 59   FAC_ACUTE_CARE_IND (0.041436)\n",
      " 7. feature 40        PAT_AGE_20-29 (0.039564)\n",
      " 8. feature 61 FAC_LONG_TERM_AC_IND (0.031637)\n",
      " 9. feature  6 SOURCE_OF_ADMISSION_1 (0.030912)\n",
      "10. feature 55 ADMITTING_DIAGNOSIS_CHANGED (0.029270)\n",
      "11. feature  0  TYPE_OF_ADMISSION_1 (0.025375)\n",
      "12. feature 41        PAT_AGE_30-39 (0.021438)\n",
      "13. feature 49        PAT_AGE_80-89 (0.021393)\n",
      "14. feature  2  TYPE_OF_ADMISSION_3 (0.020123)\n",
      "15. feature 52 POA_PROVIDER_INDICATOR_R (0.019437)\n",
      "16. feature 51 POA_PROVIDER_INDICATOR_M (0.019151)\n",
      "17. feature 47        PAT_AGE_70-79 (0.017107)\n",
      "18. feature 54 ADMITTING_DIAGNOSIS_UNCHANGED (0.016230)\n",
      "19. feature  7 SOURCE_OF_ADMISSION_2 (0.015833)\n",
      "20. feature 17           SEX_CODE_F (0.015294)\n",
      "21. feature  1  TYPE_OF_ADMISSION_2 (0.015178)\n",
      "22. feature 63         FAC_PEDS_IND (0.014013)\n",
      "23. feature 58        FAC_REHAB_IND (0.010439)\n",
      "24. feature 26          ETHNICITY_2 (0.010329)\n",
      "25. feature 57        FAC_PSYCH_IND (0.009833)\n",
      "26. feature 11 SOURCE_OF_ADMISSION_8 (0.009830)\n",
      "27. feature 56     FAC_TEACHING_IND (0.009081)\n",
      "28. feature 25          ETHNICITY_1 (0.008326)\n",
      "29. feature 18           SEX_CODE_M (0.007884)\n",
      "30. feature 45        PAT_AGE_60-69 (0.007642)\n",
      "31. feature 64          FAC_UNKNOWN (0.007463)\n",
      "32. feature 19           SEX_CODE_U (0.005769)\n",
      "33. feature 13 SOURCE_OF_ADMISSION_D (0.004547)\n",
      "34. feature 50          PAT_AGE_90+ (0.004471)\n",
      "35. feature 37          PAT_AGE_1-9 (0.004346)\n",
      "36. feature 33      ADMIT_WEEKDAY_6 (0.003466)\n",
      "37. feature 24               RACE_5 (0.003350)\n",
      "38. feature 38        PAT_AGE_10-19 (0.003306)\n",
      "39. feature 60          FAC_SNF_IND (0.003264)\n",
      "40. feature 22               RACE_3 (0.003055)\n",
      "41. feature 23               RACE_4 (0.002909)\n",
      "42. feature 32      ADMIT_WEEKDAY_5 (0.002688)\n",
      "43. feature 10 SOURCE_OF_ADMISSION_6 (0.002414)\n",
      "44. feature 30      ADMIT_WEEKDAY_3 (0.002360)\n",
      "45. feature 29      ADMIT_WEEKDAY_2 (0.002241)\n",
      "46. feature 44        PAT_AGE_50-59 (0.002161)\n",
      "47. feature 31      ADMIT_WEEKDAY_4 (0.001984)\n",
      "48. feature 28      ADMIT_WEEKDAY_1 (0.001960)\n",
      "49. feature 34      ADMIT_WEEKDAY_7 (0.001673)\n",
      "50. feature 14         PAT_STATE_TX (0.001523)\n",
      "51. feature 16         PAT_STATE_ZZ (0.001438)\n",
      "52. feature 42        PAT_AGE_40-49 (0.001293)\n",
      "53. feature 43 PAT_AGE_45-64 (HIV & D/A) (0.001245)\n",
      "54. feature 39 PAT_AGE_18-44 (HIV & D/A) (0.001200)\n",
      "55. feature 12 SOURCE_OF_ADMISSION_9 (0.000947)\n",
      "56. feature 46 PAT_AGE_65-74 (HIV & D/A) (0.000813)\n",
      "57. feature 27          ETHNICITY_3 (0.000797)\n",
      "58. feature 21               RACE_2 (0.000696)\n",
      "59. feature  4  TYPE_OF_ADMISSION_5 (0.000563)\n",
      "60. feature  5  TYPE_OF_ADMISSION_9 (0.000529)\n",
      "61. feature 20               RACE_1 (0.000469)\n",
      "62. feature 48 PAT_AGE_75+ (HIV & D/A) (0.000384)\n",
      "63. feature 36 PAT_AGE_0-17 (HIV & D/A) (0.000366)\n",
      "64. feature 62    FAC_OTHER_LTC_IND (0.000268)\n",
      "65. feature 15         PAT_STATE_XX (0.000134)\n"
     ]
    }
   ],
   "source": [
    "model = \"ExtraTreeClassifierV1\"\n",
    "clf = classifiers[model]\n",
    "\n",
    "if model == \"ExtraTreeClassifierV1\":\n",
    "\n",
    "    importances = clf.feature_importances_\n",
    "    std = np.std([tree.feature_importances_ for tree in clf.estimators_], axis=0)\n",
    "    indices = np.argsort(importances)[::-1]\n",
    "    \n",
    "    print(\"Feature Ranking\")\n",
    "    feature_names = [df_X_train_model.columns[indices[f]] for f in range(importances.shape[0])]\n",
    "    for f in range(importances.shape[0]):\n",
    "        print(\"%2d. feature %2d %20s (%f)\" % (f+1, indices[f], feature_names[f], importances[indices[f]]))\n",
    "        "
   ]
  },
  {
   "cell_type": "code",
   "execution_count": 67,
   "metadata": {},
   "outputs": [
    {
     "data": {
      "image/png": "[encoded data removed]",
      "text/plain": [
       "<Figure size 576x1584 with 1 Axes>"
      ]
     },
     "metadata": {},
     "output_type": "display_data"
    }
   ],
   "source": [
    "plt.figure(figsize=(8,22))\n",
    "plt.title(\"Feature Importance\")\n",
    "plt.barh(range(importances.shape[0]), importances[indices], xerr=std[indices], align='center')\n",
    "plt.yticks(range(importances.shape[0]), feature_names)\n",
    "plt.ylim([-1, importances.shape[0]])\n",
    "plt.show()"
   ]
  },
  {
   "cell_type": "markdown",
   "metadata": {},
   "source": [
    "### 1.5.1.1 Delete Unimportant Features"
   ]
  },
  {
   "cell_type": "code",
   "execution_count": 97,
   "metadata": {},
   "outputs": [],
   "source": [
    "# unimportant_features = ['PAT_STATE_XX','TYPE_OF_ADMISSION_9','RACE_1','SOURCE_OF_ADMISSION_9','TYPE_OF_ADMISSION_5','ADMIT_WEEKDAY_4']\n",
    "# df_X_train_new_model = df_X_train_model\n",
    "# df_X_train_new_model.drop(columns=unimportant_features, inplace=True)\n",
    "\n",
    "# X_train, y_train = df_X_train_model.values, df_y_train.values\n",
    "# X_test, y_test = df_X_train_model.values, df_y_test.values"
   ]
  },
  {
   "cell_type": "markdown",
   "metadata": {},
   "source": [
    "### 1.5.1.2 Retrain"
   ]
  },
  {
   "cell_type": "code",
   "execution_count": 98,
   "metadata": {},
   "outputs": [
    {
     "name": "stdout",
     "output_type": "stream",
     "text": [
      "           ExtraTreeClassifier has a training score (recall_macro) of 45.35% \n"
     ]
    }
   ],
   "source": [
    "# metric = 'recall_macro'\n",
    "# for name, clf in classifiers.items():\n",
    "#     clf.fit(X_train, y_train)\n",
    "#     training_score = cross_val_score(clf, X_train, y_train, cv=10, n_jobs=-1,\n",
    "#         scoring=metric)\n",
    "    \n",
    "#     print(\"%30s has a training score (%s) of %.2f%% \" % (name, metric, 100*training_score.mean()))"
   ]
  },
  {
   "cell_type": "markdown",
   "metadata": {},
   "source": [
    "### 1.5.2 Metrics"
   ]
  },
  {
   "cell_type": "code",
   "execution_count": 122,
   "metadata": {},
   "outputs": [],
   "source": [
    "# pd.crosstab(df_pred.true.map(target_labels), df_pred[model].map(target_labels), rownames=['True'], colnames=['Predicted'])"
   ]
  },
  {
   "cell_type": "code",
   "execution_count": 123,
   "metadata": {},
   "outputs": [],
   "source": [
    "# from sklearn.metrics import classification_report \n",
    "# print(classification_report(df_pred.true, df_pred[model], target_names=le_target.inverse_transform([0,1,2])))"
   ]
  },
  {
   "cell_type": "markdown",
   "metadata": {},
   "source": [
    "### 1.5.3 Hyper-Parameter Tuning"
   ]
  },
  {
   "cell_type": "code",
   "execution_count": 22,
   "metadata": {},
   "outputs": [],
   "source": [
    "from sklearn.model_selection import GridSearchCV\n",
    "\n",
    "param_space = {\n",
    "    \n",
    "    \"LogisticRegression\": {\n",
    "        \"solver\":[\"liblinear\"],\n",
    "        \"penalty\": ['l1', 'l2'], \n",
    "        \"C\": [0.001, 0.01, 0.1, 1, 10, 100, 1000]\n",
    "    },\n",
    "    \n",
    "    \"ExtraTreeClassifier\": {\n",
    "        \"n_estimators\":[200, 500],\n",
    "        \"max_features\":[\"auto\", \"sqrt\", \"log2\"],\n",
    "        \"min_samples_split\":[2,5,10],\n",
    "        \"max_depth\": [4,5,6,7,8],\n",
    "        \"criterion\":[\"gini\", \"entropy\"],\n",
    "        \"bootstrap\":[True, False]\n",
    "    },\n",
    "    \"BaggingClassifier\": {\n",
    "        \"max_samples\": [0.5, 1.0],\n",
    "        \"max_features\": [1, 2, 4],\n",
    "        \"bootstrap\": [True, False],\n",
    "        \"bootstrap_features\": [True, False]\n",
    "    }\n",
    "}\n",
    "    \n",
    "\n",
    "best_classifiers = {}"
   ]
  },
  {
   "cell_type": "code",
   "execution_count": 23,
   "metadata": {},
   "outputs": [
    {
     "name": "stdout",
     "output_type": "stream",
     "text": [
      "\n",
      "\n",
      "Performing GridSearchCV on ExtraTreeClassifier...\n",
      "GridSearchCV(cv=5, error_score=nan,\n",
      "             estimator=ExtraTreesClassifier(bootstrap=False, ccp_alpha=0.0,\n",
      "                                            class_weight=None, criterion='gini',\n",
      "                                            max_depth=None, max_features='auto',\n",
      "                                            max_leaf_nodes=None,\n",
      "                                            max_samples=None,\n",
      "                                            min_impurity_decrease=0.0,\n",
      "                                            min_impurity_split=None,\n",
      "                                            min_samples_leaf=1,\n",
      "                                            min_samples_split=2,\n",
      "                                            min_weight_fraction_leaf=0.0,\n",
      "                                            n_estimators=100, n_jobs=None,\n",
      "                                            o...dom_state=None,\n",
      "                                            verbose=0, warm_start=False),\n",
      "             iid='deprecated', n_jobs=None,\n",
      "             param_grid={'bootstrap': [True, False],\n",
      "                         'criterion': ['gini', 'entropy'],\n",
      "                         'max_depth': [4, 5, 6, 7, 8],\n",
      "                         'max_features': ['auto', 'sqrt', 'log2'],\n",
      "                         'min_samples_split': [2, 5, 10],\n",
      "                         'n_estimators': [200, 500]},\n",
      "             pre_dispatch='2*n_jobs', refit=True, return_train_score=False,\n",
      "             scoring='recall_macro', verbose=0)\n",
      "ExtraTreeClassifier Cross Validation Score (recall_macro): 48.47%\n",
      "Best Params: \n",
      "\n",
      "{'bootstrap': False, 'criterion': 'entropy', 'max_depth': 8, 'max_features': 'auto', 'min_samples_split': 5, 'n_estimators': 500}\n",
      "\n",
      "\n",
      "Performing GridSearchCV on BaggingClassifier...\n",
      "GridSearchCV(cv=5, error_score=nan,\n",
      "             estimator=BaggingClassifier(base_estimator=SGDClassifier(alpha=0.0001,\n",
      "                                                                      average=False,\n",
      "                                                                      class_weight='balanced',\n",
      "                                                                      early_stopping=False,\n",
      "                                                                      epsilon=0.1,\n",
      "                                                                      eta0=10,\n",
      "                                                                      fit_intercept=True,\n",
      "                                                                      l1_ratio=0.15,\n",
      "                                                                      learning_rate='adaptive',\n",
      "                                                                      loss='log',\n",
      "                                                                      max_iter=1000,\n",
      "                                                                      n_iter_no_change=5,\n",
      "                                                                      n_jobs=None,\n",
      "                                                                      penalty='l1',\n",
      "                                                                      power_t=0.5,\n",
      "                                                                      random_state=None,\n",
      "                                                                      shuffle=Tr...\n",
      "                                         max_features=1.0, max_samples=1.0,\n",
      "                                         n_estimators=10, n_jobs=None,\n",
      "                                         oob_score=False, random_state=None,\n",
      "                                         verbose=0, warm_start=False),\n",
      "             iid='deprecated', n_jobs=None,\n",
      "             param_grid={'bootstrap': [True, False],\n",
      "                         'bootstrap_features': [True, False],\n",
      "                         'max_features': [1, 2, 4], 'max_samples': [0.5, 1.0]},\n",
      "             pre_dispatch='2*n_jobs', refit=True, return_train_score=False,\n",
      "             scoring='recall_macro', verbose=0)\n",
      "BaggingClassifier Cross Validation Score (recall_macro): 43.53%\n",
      "Best Params: \n",
      "\n",
      "{'bootstrap': True, 'bootstrap_features': True, 'max_features': 4, 'max_samples': 0.5}\n"
     ]
    }
   ],
   "source": [
    "if HYPER_TUNING == True:\n",
    "\n",
    "    for name, clf in classifiers.items():\n",
    "\n",
    "        param = param_space[name]\n",
    "        print(\"\\n\\nPerforming GridSearchCV on %s...\" % name)\n",
    "        clf = GridSearchCV(classifiers[name], param, cv=5, scoring=metric )\n",
    "\n",
    "        clf.fit(X_train, y_train)\n",
    "        best_classifiers[name] = clf\n",
    "\n",
    "        score = cross_val_score(clf, X_train, y_train, cv=10)\n",
    "        print(best_classifiers[name])\n",
    "        print(\"%s Cross Validation Score (%s): %.2f%%\" % (name, metric, 100*score.mean()))\n",
    "\n",
    "        print(\"Best Params: \\n\")\n",
    "        print(best_classifiers[name].best_params_)"
   ]
  },
  {
   "cell_type": "code",
   "execution_count": 114,
   "metadata": {},
   "outputs": [],
   "source": [
    "from sklearn.model_selection import cross_val_predict\n",
    "from sklearn.metrics import f1_score\n",
    "\n",
    "if HYPER_TUNING == True:\n",
    "\n",
    "    best_classifier_pred = {}\n",
    "    for name in classifiers:\n",
    "        pred = cross_val_predict(best_classifiers[name], X_train, y_train, cv=10)\n",
    "        best_classifier_pred[name] = pred\n",
    "\n",
    "    best_classifier_pred['true'] = y_train\n",
    "    df_best_pred = pd.DataFrame(best_classifier_pred)"
   ]
  },
  {
   "cell_type": "markdown",
   "metadata": {},
   "source": [
    "## 1.6 Grading"
   ]
  },
  {
   "cell_type": "code",
   "execution_count": 66,
   "metadata": {},
   "outputs": [],
   "source": [
    "df.to_csv(\"data/test.csv\", index=False)"
   ]
  },
  {
   "cell_type": "code",
   "execution_count": 18,
   "metadata": {},
   "outputs": [
    {
     "data": {
      "text/plain": [
       "(100000, 193)"
      ]
     },
     "execution_count": 18,
     "metadata": {},
     "output_type": "execute_result"
    }
   ],
   "source": [
    "df_grading = pd.read_csv(f\"data/grading.csv\", dtype=str)\n",
    "df_grading.shape"
   ]
  },
  {
   "cell_type": "code",
   "execution_count": 19,
   "metadata": {},
   "outputs": [
    {
     "data": {
      "text/plain": [
       "(100000, 202)"
      ]
     },
     "execution_count": 19,
     "metadata": {},
     "output_type": "execute_result"
    }
   ],
   "source": [
    "df_grading = pd.merge(df_grading, df_facility, on=\"THCIC_ID\", how=\"left\")\n",
    "df_grading.shape"
   ]
  },
  {
   "cell_type": "code",
   "execution_count": 20,
   "metadata": {},
   "outputs": [],
   "source": [
    "df_grading[\"FAC_UNKNOWN\"] = df_grading.FAC_OTHER_LTC_IND.isnull().astype(int)\n",
    "\n",
    "for c in df.columns:\n",
    "    if c [:3]==\"FAC\":\n",
    "        df_grading[c].fillna(0, inplace=True)"
   ]
  },
  {
   "cell_type": "markdown",
   "metadata": {},
   "source": [
    "### 1.6.1. Encoding `df_grading`"
   ]
  },
  {
   "cell_type": "code",
   "execution_count": 117,
   "metadata": {},
   "outputs": [
    {
     "name": "stdout",
     "output_type": "stream",
     "text": [
      "Feture TYPE_OF_ADMISSION -> ['2' '1' '3' '4' '5' '9']\n",
      "Feture SOURCE_OF_ADMISSION -> ['1' '2' '5' '6' 'D' '4' '8' '9' '0']\n",
      "Feture PAT_STATE -> ['TX' 'ZZ' 'XX']\n",
      "Feture SEX_CODE -> ['F' 'M' 'U']\n",
      "Feture RACE -> ['4' '5' '3' '2' '1']\n",
      "Feture ETHNICITY -> ['1' '2' '3']\n"
     ]
    }
   ],
   "source": [
    "my_lib.clean_categories(df_grading)"
   ]
  },
  {
   "cell_type": "code",
   "execution_count": 118,
   "metadata": {},
   "outputs": [],
   "source": [
    "df_X_train_model, df_X_test_model = encode_features(df_X_train, df_grading, cat_LabelBinarize)"
   ]
  },
  {
   "cell_type": "markdown",
   "metadata": {},
   "source": [
    "### 1.6.2. Make Predictions"
   ]
  },
  {
   "cell_type": "code",
   "execution_count": 119,
   "metadata": {},
   "outputs": [],
   "source": [
    "model = \"ExtraTreeClassifier\"\n",
    "df_grading['TARGET'] = classifiers[model].fit(df_X_train_model, y_train).predict(df_X_test_model)\n",
    "df_grading['TARGET'] = df_grading['TARGET'].map(target_labels)"
   ]
  },
  {
   "cell_type": "markdown",
   "metadata": {},
   "source": [
    "### 1.6.3. Save Predictions"
   ]
  },
  {
   "cell_type": "code",
   "execution_count": 120,
   "metadata": {},
   "outputs": [],
   "source": [
    "df_grading.loc[:, [\"RECORD_ID\", \"TARGET\"]].to_csv(\"df_grading_pred.csv\", index=False)"
   ]
  },
  {
   "cell_type": "markdown",
   "metadata": {},
   "source": [
    "### 1.6.4. Generate Archive"
   ]
  },
  {
   "cell_type": "code",
   "execution_count": 121,
   "metadata": {},
   "outputs": [
    {
     "name": "stdout",
     "output_type": "stream",
     "text": [
      "Creating archive: my_assignment.zip\n",
      "\t01-Import.ipynb - OK\n",
      "\t02-EDA.ipynb - OK\n",
      "\t03-Model.ipynb - OK\n",
      "\tmy_lib.py - OK\n",
      "\tdf_grading_pred.csv - OK\n"
     ]
    }
   ],
   "source": [
    "my_lib.make_assignment()"
   ]
  },
  {
   "cell_type": "code",
   "execution_count": null,
   "metadata": {},
   "outputs": [],
   "source": []
  }
 ],
 "metadata": {
  "kernelspec": {
   "display_name": "Python 3",
   "language": "python",
   "name": "python3"
  },
  "language_info": {
   "codemirror_mode": {
    "name": "ipython",
    "version": 3
   },
   "file_extension": ".py",
   "mimetype": "text/x-python",
   "name": "python",
   "nbconvert_exporter": "python",
   "pygments_lexer": "ipython3",
   "version": "3.6.8"
  }
 },
 "nbformat": 4,
 "nbformat_minor": 4
}
